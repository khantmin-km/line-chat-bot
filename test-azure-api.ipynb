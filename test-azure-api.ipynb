{
 "cells": [
  {
   "cell_type": "code",
   "execution_count": 20,
   "id": "a1f20725-146e-48ba-9df9-2b40d1c61a52",
   "metadata": {},
   "outputs": [],
   "source": [
    "import os\n",
    "from dotenv import load_dotenv\n",
    "from openai import AzureOpenAI"
   ]
  },
  {
   "cell_type": "code",
   "execution_count": 22,
   "id": "baf3a19a-9da6-485c-aa85-34bdb3252f95",
   "metadata": {},
   "outputs": [
    {
     "data": {
      "text/plain": [
       "True"
      ]
     },
     "execution_count": 22,
     "metadata": {},
     "output_type": "execute_result"
    }
   ],
   "source": [
    "load_dotenv()"
   ]
  },
  {
   "cell_type": "code",
   "execution_count": 23,
   "id": "9ee890a1-02c8-44f1-8df5-c0396accaa4b",
   "metadata": {},
   "outputs": [],
   "source": [
    "endpoint = os.getenv(\"AZURE_ENDPOINT\")\n",
    "api_key = os.getenv(\"AZURE_API_KEY\")\n",
    "deployment = os.getenv(\"AZURE_DEPLOYMENT\")\n",
    "api_version = os.getenv(\"AZURE_API_VERSION\")"
   ]
  },
  {
   "cell_type": "code",
   "execution_count": null,
   "id": "b2b29c66-d12c-45f1-8885-b59e66185a9b",
   "metadata": {},
   "outputs": [],
   "source": [
    "client = AzureOpenAI(\n",
    "    api_key=api_key,\n",
    "    api_version=api_version,\n",
    "    azure_endpoint=endpoint,\n",
    ")"
   ]
  },
  {
   "cell_type": "code",
   "execution_count": 18,
   "id": "39c2699a-732e-4bd9-8e92-b9aa6dc7e0bd",
   "metadata": {},
   "outputs": [
    {
     "name": "stdout",
     "output_type": "stream",
     "text": [
      "There are so many wonderful things to see and do in Paris! Here are some must-see attractions:\n",
      "\n",
      "1. Eiffel Tower: Visit this iconic symbol of Paris for breathtaking views of the city.\n",
      "2. Louvre Museum: Explore one of the world's largest and most famous art museums, home to the Mona Lisa and many other masterpieces.\n",
      "3. Notre Dame Cathedral: Admire the stunning architecture of this historic cathedral on the Île de la Cité.\n",
      "4. Montmartre: Wander through this charming neighborhood known for its artistic history, including the famous Sacré-Cœur Basilica.\n",
      "5. Champs-Élysées: Take a stroll down this famous boulevard lined with shops, cafes, and theaters, ending at the Arc de Triomphe.\n",
      "6. Seine River Cruise: Enjoy a leisurely boat ride along the Seine River to see many of Paris's iconic landmarks from the water.\n",
      "7. Palace of Versailles: Take a day trip to this magnificent palace and gardens, a UNESCO World Heritage site located just outside of Paris.\n",
      "\n",
      "These are just a few suggestions to get you started. Paris is a city full of history, culture, and beauty, so be sure to explore and discover all that it has to offer!\n"
     ]
    }
   ],
   "source": [
    "response = client.chat.completions.create(\n",
    "    messages=[\n",
    "        {\n",
    "            \"role\": \"system\",\n",
    "            \"content\": \"You are a helpful assistant.\",\n",
    "        },\n",
    "        {\n",
    "            \"role\": \"user\",\n",
    "            \"content\": \"I am going to Paris, what should I see?\",\n",
    "        }\n",
    "    ],\n",
    "    max_tokens=4096,\n",
    "    temperature=1.0,\n",
    "    top_p=1.0,\n",
    "    model=deployment\n",
    ")\n",
    "\n",
    "print(response.choices[0].message.content)"
   ]
  }
 ],
 "metadata": {
  "kernelspec": {
   "display_name": "DS",
   "language": "python",
   "name": "ds_env"
  },
  "language_info": {
   "codemirror_mode": {
    "name": "ipython",
    "version": 3
   },
   "file_extension": ".py",
   "mimetype": "text/x-python",
   "name": "python",
   "nbconvert_exporter": "python",
   "pygments_lexer": "ipython3",
   "version": "3.13.5"
  }
 },
 "nbformat": 4,
 "nbformat_minor": 5
}
